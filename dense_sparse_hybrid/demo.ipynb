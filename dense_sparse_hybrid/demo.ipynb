{
 "cells": [
  {
   "cell_type": "markdown",
   "metadata": {},
   "source": [
    "# Improve Text Retrieval Using Hybrid Search with BGE-M3"
   ]
  },
  {
   "cell_type": "markdown",
   "metadata": {},
   "source": [
    "BGE-M3 has been introduced to the field of natural language processing and information retrieval. This model is remarkable for its multilingual capabilities, allowing it to support a wide array of languages. Moreover, BGE-M3 is capable of producing various types of embeddings, a feature that has been empirically proven to enhance retrieval effectiveness through hybrid search methodologies.     \n",
    "Hybrid search, which combines multiple types of embeddings to conduct searches, has been shown to significantly improve performance. This approach leverages the strengths of different embedding types to achieve higher accuracy and more relevant search results.   \n",
    "<img src=\"./misc/table2.png\" alt=\"Sample Image\" title=\"Sample Image\" width=\"75%\" />     \n",
    "We will explore how to utilize the BGE-M3 model to implement a hybrid search on the MIRACL Finnish dataset using Milvus 2.4.0, aiming to demonstrate the performance improvements that can be achieved. \n"
   ]
  },
  {
   "cell_type": "markdown",
   "metadata": {},
   "source": [
    "## Prerequisite\n",
    "Checkout [Milvus official website](https://milvus.io/docs/install_standalone-docker.md) to install milvus>=2.4.0. And install PyMilvus and other dependencies by \n",
    "```bash\n",
    "!pip install -r requirements.txt\n",
    "```"
   ]
  },
  {
   "cell_type": "markdown",
   "metadata": {},
   "source": [
    "## Generate Embeddings of the Corpus\n",
    "First and foremost, we need to generate embeddings for the Finnish language. To assist you in this task, we've prepared a script designed to transform the corpus of your chosen language from MIRACL into vectors, which will then be stored in the `embeddings` folder. Given the substantial size of the MIRACL dataset, we recommend conducting this operation on a machine equipped with a GPU to facilitate efficient computation. Upon completion of this process, you will have successfully obtained the corpus  embeddings.  \n",
    "Additionally, considering the vast quantity of data to be processed, we advise against running this script directly within this notebook. Instead, we recommend executing it from the command line to ensure optimal performance and manageability."
   ]
  },
  {
   "cell_type": "code",
   "execution_count": null,
   "metadata": {
    "vscode": {
     "languageId": "plaintext"
    }
   },
   "outputs": [],
   "source": []
  }
 ],
 "metadata": {
  "language_info": {
   "name": "python"
  }
 },
 "nbformat": 4,
 "nbformat_minor": 2
}
